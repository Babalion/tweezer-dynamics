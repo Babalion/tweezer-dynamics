{
 "cells": [
  {
   "cell_type": "code",
   "execution_count": 14,
   "outputs": [],
   "source": [
    "import copy\n",
    "from qutip import *\n",
    "import numpy as np\n",
    "from matplotlib import pyplot as plt\n",
    "import matplotlib as mpl\n",
    "import seaborn as sns\n",
    "import h5py\n",
    "import uuid\n",
    "from datetime import datetime\n",
    "\n",
    "mpl.rcParams['figure.dpi'] = 200"
   ],
   "metadata": {
    "collapsed": false
   }
  },
  {
   "cell_type": "markdown",
   "source": [
    "# First Seed\n",
    "This notebook demonstrates the initial seeding process where we start in all $|g>$ and a THz-photon pushes one atom in $|r>$. Afterwards this atom should generate somewhere else a $|e>$ excitation through dipole-dipole interaction (between er).\n",
    "\n",
    "This state is later on the starting point for the avalanche (other notebook)."
   ],
   "metadata": {
    "collapsed": false
   }
  },
  {
   "cell_type": "markdown",
   "source": [
    "## Define Constants"
   ],
   "metadata": {
    "collapsed": false
   }
  },
  {
   "cell_type": "code",
   "execution_count": 15,
   "outputs": [],
   "source": [
    "N_spins = 7\n",
    "N_phonons = 3\n",
    "\n",
    "OmegaGE = 1\n",
    "kappa = 3\n",
    "omegaTrap = 8\n",
    "V_vdw = 200\n",
    "DeltaEE = -V_vdw  # weil resonant\n",
    "\n",
    "tlist = np.linspace(0, 3, 50)\n",
    "\n",
    "GammaEg = 0\n",
    "GammaEe = 0"
   ],
   "metadata": {
    "collapsed": false
   }
  },
  {
   "cell_type": "code",
   "execution_count": 16,
   "outputs": [],
   "source": [
    "def multiSpinOperator(op, numOfParticles, dim=2):\n",
    "    retOp = []\n",
    "    for i in range(numOfParticles):\n",
    "        if i == 0:\n",
    "            retOp.append(op)\n",
    "        else:\n",
    "            retOp.append(qeye(dim))\n",
    "        for j in range(numOfParticles - 1):\n",
    "            if j + 1 == i:\n",
    "                retOp[i] = tensor(retOp[i], op)\n",
    "            else:\n",
    "                retOp[i] = tensor(retOp[i], qeye(dim))\n",
    "    return retOp"
   ],
   "metadata": {
    "collapsed": false
   }
  },
  {
   "cell_type": "code",
   "execution_count": 17,
   "outputs": [
    {
     "data": {
      "text/plain": "Quantum object: dims = [[2], [1]], shape = (2, 1), type = ket\nQobj data =\n[[1.]\n [0.]]",
      "text/latex": "Quantum object: dims = [[2], [1]], shape = (2, 1), type = ket\\begin{equation*}\\left(\\begin{array}{*{11}c}1.0\\\\0.0\\\\\\end{array}\\right)\\end{equation*}"
     },
     "execution_count": 17,
     "metadata": {},
     "output_type": "execute_result"
    }
   ],
   "source": [
    "g = basis(2, 0)\n",
    "e = basis(2, 1)\n",
    "a = destroy(N_phonons)\n",
    "g"
   ],
   "metadata": {
    "collapsed": false
   }
  },
  {
   "cell_type": "markdown",
   "source": [
    "## Create Hamiltonian"
   ],
   "metadata": {
    "collapsed": false
   }
  },
  {
   "cell_type": "code",
   "execution_count": 18,
   "outputs": [],
   "source": [
    "#tempOpReshape = qeye([2, N_phonons])\n",
    "tempOpReshape = qeye(2 * N_phonons)\n",
    "tempOpReshape.data = tensor(e * g.dag() + g * e.dag(), qeye(N_phonons)).data\n",
    "H_OmegaGE = OmegaGE * sum(multiSpinOperator(tempOpReshape, N_spins, dim=tempOpReshape.dims[0]))\n",
    "tempOpReshape.data = tensor(e * e.dag(), qeye(N_phonons)).data\n",
    "H_DeltaEE = DeltaEE * sum(multiSpinOperator(tempOpReshape, N_spins, dim=tempOpReshape.dims[0]))\n",
    "tempOpReshape.data = tensor(qeye(2), num(N_phonons) + 0.5).data\n",
    "H_phon = omegaTrap * sum(multiSpinOperator(tempOpReshape, N_spins, dim=tempOpReshape.dims[0]))"
   ],
   "metadata": {
    "collapsed": false
   }
  },
  {
   "cell_type": "code",
   "execution_count": 19,
   "outputs": [
    {
     "data": {
      "text/plain": "Quantum object: dims = [[6, 6, 6, 6, 6, 6, 6], [6, 6, 6, 6, 6, 6, 6]], shape = (279936, 279936), type = oper, isherm = True\nQobj data =\n  (0, 3)\t(1+0j)\n  (0, 18)\t(1+0j)\n  (0, 108)\t(1+0j)\n  (0, 648)\t(1+0j)\n  (0, 3888)\t(1+0j)\n  (0, 23328)\t(1+0j)\n  (0, 139968)\t(1+0j)\n  (1, 4)\t(1+0j)\n  (1, 19)\t(1+0j)\n  (1, 109)\t(1+0j)\n  (1, 649)\t(1+0j)\n  (1, 3889)\t(1+0j)\n  (1, 23329)\t(1+0j)\n  (1, 139969)\t(1+0j)\n  (2, 5)\t(1+0j)\n  (2, 20)\t(1+0j)\n  (2, 110)\t(1+0j)\n  (2, 650)\t(1+0j)\n  (2, 3890)\t(1+0j)\n  (2, 23330)\t(1+0j)\n  (2, 139970)\t(1+0j)\n  (3, 0)\t(1+0j)\n  (3, 21)\t(1+0j)\n  (3, 111)\t(1+0j)\n  (3, 651)\t(1+0j)\n  :\t:\n  (279932, 279284)\t(1+0j)\n  (279932, 279824)\t(1+0j)\n  (279932, 279914)\t(1+0j)\n  (279932, 279935)\t(1+0j)\n  (279933, 139965)\t(1+0j)\n  (279933, 256605)\t(1+0j)\n  (279933, 276045)\t(1+0j)\n  (279933, 279285)\t(1+0j)\n  (279933, 279825)\t(1+0j)\n  (279933, 279915)\t(1+0j)\n  (279933, 279930)\t(1+0j)\n  (279934, 139966)\t(1+0j)\n  (279934, 256606)\t(1+0j)\n  (279934, 276046)\t(1+0j)\n  (279934, 279286)\t(1+0j)\n  (279934, 279826)\t(1+0j)\n  (279934, 279916)\t(1+0j)\n  (279934, 279931)\t(1+0j)\n  (279935, 139967)\t(1+0j)\n  (279935, 256607)\t(1+0j)\n  (279935, 276047)\t(1+0j)\n  (279935, 279287)\t(1+0j)\n  (279935, 279827)\t(1+0j)\n  (279935, 279917)\t(1+0j)\n  (279935, 279932)\t(1+0j)",
      "text/latex": "Quantum object: dims = [[6, 6, 6, 6, 6, 6, 6], [6, 6, 6, 6, 6, 6, 6]], shape = (279936, 279936), type = oper, isherm = True\\begin{equation*}\\left(\\begin{array}{*{11}c}0.0 & 0.0 & 0.0 & 1.0 & 0.0 & \\cdots & 0.0 & 0.0 & 0.0 & 0.0 & 0.0\\\\0.0 & 0.0 & 0.0 & 0.0 & 1.0 & \\cdots & 0.0 & 0.0 & 0.0 & 0.0 & 0.0\\\\0.0 & 0.0 & 0.0 & 0.0 & 0.0 & \\cdots & 0.0 & 0.0 & 0.0 & 0.0 & 0.0\\\\1.0 & 0.0 & 0.0 & 0.0 & 0.0 & \\cdots & 0.0 & 0.0 & 0.0 & 0.0 & 0.0\\\\0.0 & 1.0 & 0.0 & 0.0 & 0.0 & \\cdots & 0.0 & 0.0 & 0.0 & 0.0 & 0.0\\\\\\vdots & \\vdots & \\vdots & \\vdots & \\vdots & \\ddots & \\vdots & \\vdots & \\vdots & \\vdots & \\vdots\\\\0.0 & 0.0 & 0.0 & 0.0 & 0.0 & \\cdots & 0.0 & 0.0 & 0.0 & 1.0 & 0.0\\\\0.0 & 0.0 & 0.0 & 0.0 & 0.0 & \\cdots & 0.0 & 0.0 & 0.0 & 0.0 & 1.0\\\\0.0 & 0.0 & 0.0 & 0.0 & 0.0 & \\cdots & 0.0 & 0.0 & 0.0 & 0.0 & 0.0\\\\0.0 & 0.0 & 0.0 & 0.0 & 0.0 & \\cdots & 1.0 & 0.0 & 0.0 & 0.0 & 0.0\\\\0.0 & 0.0 & 0.0 & 0.0 & 0.0 & \\cdots & 0.0 & 1.0 & 0.0 & 0.0 & 0.0\\\\\\end{array}\\right)\\end{equation*}"
     },
     "execution_count": 19,
     "metadata": {},
     "output_type": "execute_result"
    }
   ],
   "source": [
    "H_OmegaGE"
   ],
   "metadata": {
    "collapsed": false
   }
  },
  {
   "cell_type": "code",
   "execution_count": 20,
   "outputs": [],
   "source": [
    "tempOpReshape.data = tensor(e * e.dag(), qeye(N_phonons)).data\n",
    "multiEe = multiSpinOperator(tempOpReshape, N_spins, dim=tempOpReshape.dims[0])\n",
    "\n",
    "tempOpReshape.data = tensor(e * e.dag(), a).data\n",
    "multiNa = multiSpinOperator(tempOpReshape, N_spins, dim=tempOpReshape.dims[0])\n",
    "\n",
    "tempOpReshape.data = tensor(e * e.dag(), a.dag()).data\n",
    "multiNaDag = multiSpinOperator(tempOpReshape, N_spins, dim=tempOpReshape.dims[0])"
   ],
   "metadata": {
    "collapsed": false
   }
  },
  {
   "cell_type": "code",
   "execution_count": 21,
   "outputs": [],
   "source": [
    "H_vdw = 0 * H_DeltaEE\n",
    "for i in range(N_spins):\n",
    "    H_vdw += V_vdw * multiEe[i] * multiEe[(i + 1) % N_spins]\n",
    "    #H_vdw -= V_vdw/ np.sqrt(omegaTrap) * (multiNaDag[i] * multiEe[(i + 1) % N_spins]\n",
    "    #                                       + multiNa[i] * multiEe[(i + 1) % N_spins]\n",
    "    #                                       - multiNa[(i + 1) % N_spins] * multiEe[i]\n",
    "    #                                       - multiNaDag[(i + 1) % N_spins] * multiEe[i])\n",
    "    H_vdw -= kappa * (multiNaDag[i] * multiEe[(i + 1) % N_spins]\n",
    "                      + multiNa[i] * multiEe[(i + 1) % N_spins]\n",
    "                      - multiNa[(i + 1) % N_spins] * multiEe[i]\n",
    "                      - multiNaDag[(i + 1) % N_spins] * multiEe[i])"
   ],
   "metadata": {
    "collapsed": false
   }
  },
  {
   "cell_type": "code",
   "execution_count": 22,
   "outputs": [
    {
     "data": {
      "text/plain": "Quantum object: dims = [[6, 6, 6, 6, 6, 6, 6], [6, 6, 6, 6, 6, 6, 6]], shape = (279936, 279936), type = oper, isherm = True\nQobj data =\n  (0, 0)\t(28+0j)\n  (0, 3)\t(1+0j)\n  (0, 18)\t(1+0j)\n  (0, 108)\t(1+0j)\n  (0, 648)\t(1+0j)\n  (0, 3888)\t(1+0j)\n  (0, 23328)\t(1+0j)\n  (0, 139968)\t(1+0j)\n  (1, 1)\t(36+0j)\n  (1, 4)\t(1+0j)\n  (1, 19)\t(1+0j)\n  (1, 109)\t(1+0j)\n  (1, 649)\t(1+0j)\n  (1, 3889)\t(1+0j)\n  (1, 23329)\t(1+0j)\n  (1, 139969)\t(1+0j)\n  (2, 2)\t(44+0j)\n  (2, 5)\t(1+0j)\n  (2, 20)\t(1+0j)\n  (2, 110)\t(1+0j)\n  (2, 650)\t(1+0j)\n  (2, 3890)\t(1+0j)\n  (2, 23330)\t(1+0j)\n  (2, 139970)\t(1+0j)\n  (3, 0)\t(1+0j)\n  :\t:\n  (279932, 279935)\t(1+0j)\n  (279933, 139965)\t(1+0j)\n  (279933, 256605)\t(1+0j)\n  (279933, 276045)\t(1+0j)\n  (279933, 279285)\t(1+0j)\n  (279933, 279825)\t(1+0j)\n  (279933, 279915)\t(1+0j)\n  (279933, 279930)\t(1+0j)\n  (279933, 279933)\t(124+0j)\n  (279934, 139966)\t(1+0j)\n  (279934, 256606)\t(1+0j)\n  (279934, 276046)\t(1+0j)\n  (279934, 279286)\t(1+0j)\n  (279934, 279826)\t(1+0j)\n  (279934, 279916)\t(1+0j)\n  (279934, 279931)\t(1+0j)\n  (279934, 279934)\t(132+0j)\n  (279935, 139967)\t(1+0j)\n  (279935, 256607)\t(1+0j)\n  (279935, 276047)\t(1+0j)\n  (279935, 279287)\t(1+0j)\n  (279935, 279827)\t(1+0j)\n  (279935, 279917)\t(1+0j)\n  (279935, 279932)\t(1+0j)\n  (279935, 279935)\t(140+0j)",
      "text/latex": "Quantum object: dims = [[6, 6, 6, 6, 6, 6, 6], [6, 6, 6, 6, 6, 6, 6]], shape = (279936, 279936), type = oper, isherm = True\\begin{equation*}\\left(\\begin{array}{*{11}c}28.0 & 0.0 & 0.0 & 1.0 & 0.0 & \\cdots & 0.0 & 0.0 & 0.0 & 0.0 & 0.0\\\\0.0 & 36.0 & 0.0 & 0.0 & 1.0 & \\cdots & 0.0 & 0.0 & 0.0 & 0.0 & 0.0\\\\0.0 & 0.0 & 44.0 & 0.0 & 0.0 & \\cdots & 0.0 & 0.0 & 0.0 & 0.0 & 0.0\\\\1.0 & 0.0 & 0.0 & 18.0 & 0.0 & \\cdots & 0.0 & 0.0 & 0.0 & 0.0 & 0.0\\\\0.0 & 1.0 & 0.0 & 0.0 & 26.0 & \\cdots & 0.0 & 0.0 & 0.0 & 0.0 & 0.0\\\\\\vdots & \\vdots & \\vdots & \\vdots & \\vdots & \\ddots & \\vdots & \\vdots & \\vdots & \\vdots & \\vdots\\\\0.0 & 0.0 & 0.0 & 0.0 & 0.0 & \\cdots & 122.0 & 0.0 & 0.0 & 1.0 & 0.0\\\\0.0 & 0.0 & 0.0 & 0.0 & 0.0 & \\cdots & 0.0 & 130.0 & 0.0 & 0.0 & 1.0\\\\0.0 & 0.0 & 0.0 & 0.0 & 0.0 & \\cdots & 0.0 & 0.0 & 124.0 & 0.0 & 0.0\\\\0.0 & 0.0 & 0.0 & 0.0 & 0.0 & \\cdots & 1.0 & 0.0 & 0.0 & 132.0 & 0.0\\\\0.0 & 0.0 & 0.0 & 0.0 & 0.0 & \\cdots & 0.0 & 1.0 & 0.0 & 0.0 & 140.0\\\\\\end{array}\\right)\\end{equation*}"
     },
     "execution_count": 22,
     "metadata": {},
     "output_type": "execute_result"
    }
   ],
   "source": [
    "H = H_OmegaGE + H_DeltaEE + H_vdw + H_phon\n",
    "H"
   ],
   "metadata": {
    "collapsed": false
   }
  },
  {
   "cell_type": "markdown",
   "source": [
    "## Create Jump Operators"
   ],
   "metadata": {
    "collapsed": false
   }
  },
  {
   "cell_type": "code",
   "execution_count": 23,
   "outputs": [],
   "source": [
    "L_eg = []\n",
    "L_ee = []\n",
    "#for i in range(N_spins):\n",
    "#    L_eg += [tensor(multiSpinOperator(np.sqrt(GammaEg) * g * e.dag(), N_spins)[i],phonEye)]\n",
    "#    L_ee += [tensor(multiSpinOperator(np.sqrt(GammaEe) * e * e.dag(), N_spins)[i],phonEye)]\n",
    "#c_ops = [L_eg, L_ee]"
   ],
   "metadata": {
    "collapsed": false
   }
  },
  {
   "cell_type": "markdown",
   "source": [
    "## Initial state\n",
    "All atoms in $|g>$ or one in $|r>$"
   ],
   "metadata": {
    "collapsed": false
   }
  },
  {
   "cell_type": "code",
   "execution_count": 24,
   "outputs": [
    {
     "data": {
      "text/plain": "Quantum object: dims = [[6], [1]], shape = (6, 1), type = ket\nQobj data =\n[[0.]\n [0.]\n [0.]\n [1.]\n [0.]\n [0.]]",
      "text/latex": "Quantum object: dims = [[6], [1]], shape = (6, 1), type = ket\\begin{equation*}\\left(\\begin{array}{*{11}c}0.0\\\\0.0\\\\0.0\\\\1.0\\\\0.0\\\\0.0\\\\\\end{array}\\right)\\end{equation*}"
     },
     "execution_count": 24,
     "metadata": {},
     "output_type": "execute_result"
    }
   ],
   "source": [
    "g0 = basis(2 * N_phonons, 0)\n",
    "e0 = basis(2 * N_phonons, N_phonons)\n",
    "psiSpin = g0\n",
    "for i in range(N_spins - 1):\n",
    "    if i == N_spins // 2 - 1:\n",
    "        psiSpin = tensor(psiSpin, e0)\n",
    "    else:\n",
    "        psiSpin = tensor(psiSpin, g0)\n",
    "psi0 = psiSpin\n",
    "e0"
   ],
   "metadata": {
    "collapsed": false
   }
  },
  {
   "cell_type": "markdown",
   "source": [
    "## expectation values"
   ],
   "metadata": {
    "collapsed": false
   }
  },
  {
   "cell_type": "code",
   "execution_count": 52,
   "outputs": [],
   "source": [
    "eOps = []\n",
    "tempOpReshape.data = tensor(e * e.dag(), qeye(N_phonons)).data\n",
    "eOps += multiSpinOperator(tempOpReshape, N_spins, dim=tempOpReshape.dims[0])\n",
    "tempOpReshape.data = tensor(qeye(2), num(N_phonons)).data\n",
    "eOps += multiSpinOperator(tempOpReshape, N_spins, dim=tempOpReshape.dims[0])\n",
    "tempOpReshape.data = tensor(qeye(2), destroy(N_phonons)).data\n",
    "eOps += multiSpinOperator(tempOpReshape, N_spins, dim=tempOpReshape.dims[0])\n",
    "tempOpReshape.data = tensor(qeye(2), create(N_phonons)).data\n",
    "eOps += multiSpinOperator(tempOpReshape, N_spins, dim=tempOpReshape.dims[0])\n",
    "# this is only to create an array with the same amount of observables (6) as in the mps-code\n",
    "tempOpReshape.data = tensor(qzero(2), qzero(N_phonons)).data\n",
    "eOps += multiSpinOperator(tempOpReshape, N_spins, dim=tempOpReshape.dims[0])\n",
    "eOps += multiSpinOperator(tempOpReshape, N_spins, dim=tempOpReshape.dims[0])"
   ],
   "metadata": {
    "collapsed": false
   }
  },
  {
   "cell_type": "code",
   "execution_count": 53,
   "outputs": [
    {
     "name": "stdout",
     "output_type": "stream",
     "text": [
      "10.0%. Run time:   4.07s. Est. time left: 00:00:00:36\n",
      "20.0%. Run time:   8.24s. Est. time left: 00:00:00:32\n",
      "30.0%. Run time:  12.31s. Est. time left: 00:00:00:28\n",
      "40.0%. Run time:  16.64s. Est. time left: 00:00:00:24\n",
      "50.0%. Run time:  21.21s. Est. time left: 00:00:00:21\n",
      "60.0%. Run time:  25.79s. Est. time left: 00:00:00:17\n",
      "70.0%. Run time:  30.36s. Est. time left: 00:00:00:13\n",
      "80.0%. Run time:  35.64s. Est. time left: 00:00:00:08\n",
      "90.0%. Run time:  41.35s. Est. time left: 00:00:00:04\n",
      "Total run time:  45.93s\n"
     ]
    }
   ],
   "source": [
    "res0 = sesolve(H, psi0, tlist, e_ops=eOps, progress_bar=True)  #,c_ops=c_ops)"
   ],
   "metadata": {
    "collapsed": false
   }
  },
  {
   "cell_type": "code",
   "execution_count": 54,
   "outputs": [
    {
     "data": {
      "text/plain": "(42, 50)"
     },
     "execution_count": 54,
     "metadata": {},
     "output_type": "execute_result"
    }
   ],
   "source": [
    "np.array(res0.expect).shape"
   ],
   "metadata": {
    "collapsed": false
   }
  },
  {
   "cell_type": "code",
   "execution_count": 55,
   "outputs": [],
   "source": [
    "res1 = copy.deepcopy(res0)\n",
    "res1 = np.array(res1.expect).reshape(N_spins, 6, len(tlist), order='F')"
   ],
   "metadata": {
    "collapsed": false
   }
  },
  {
   "cell_type": "markdown",
   "source": [
    "## Plots"
   ],
   "metadata": {
    "collapsed": false
   }
  },
  {
   "cell_type": "code",
   "execution_count": 56,
   "outputs": [
    {
     "data": {
      "text/plain": "<Figure size 432x288 with 1 Axes>",
      "image/png": "[encoded data removed]"
     },
     "metadata": {
      "needs_background": "light"
     },
     "output_type": "display_data"
    }
   ],
   "source": [
    "plt.figure()\n",
    "for i, r in enumerate(res1[:, 0, :]):\n",
    "    plt.plot(tlist, r, label='<e' + str(i) + '>')\n",
    "plt.title(r'Time evolution, $\\Omega=$' + str(OmegaGE) + ', $\\Delta=$' + str(DeltaEE) + ', $V=$' + str(V_vdw))\n",
    "plt.xlabel('Time')\n",
    "plt.ylabel('Expectation values')\n",
    "plt.legend(loc='right')\n",
    "plt.show()"
   ],
   "metadata": {
    "collapsed": false
   }
  },
  {
   "cell_type": "code",
   "execution_count": 57,
   "outputs": [
    {
     "data": {
      "text/plain": "<Figure size 432x288 with 2 Axes>",
      "image/png": "[encoded data removed]"
     },
     "metadata": {
      "needs_background": "light"
     },
     "output_type": "display_data"
    }
   ],
   "source": [
    "sns.heatmap(res1[:, 0, :], cmap=\"viridis\", vmin=0, vmax=1)\n",
    "plt.title(r'exact: spins V={},$\\Omega={},\\omega={}$'.format(V_vdw, OmegaGE, omegaTrap))\n",
    "plt.tight_layout()\n",
    "plt.show()"
   ],
   "metadata": {
    "collapsed": false
   }
  },
  {
   "cell_type": "code",
   "execution_count": 58,
   "outputs": [
    {
     "data": {
      "text/plain": "<Figure size 432x288 with 2 Axes>",
      "image/png": "[encoded data removed]"
     },
     "metadata": {
      "needs_background": "light"
     },
     "output_type": "display_data"
    }
   ],
   "source": [
    "sns.heatmap(np.array(res1[:, 1, :]), cmap=\"viridis\", vmin=0, vmax=0.09)\n",
    "plt.title(r'exact: phonons V={},$\\Omega={},\\omega={}$'.format(V_vdw, OmegaGE, omegaTrap))\n",
    "plt.tight_layout()\n",
    "plt.show()"
   ],
   "metadata": {
    "collapsed": false
   }
  },
  {
   "cell_type": "code",
   "execution_count": 59,
   "outputs": [],
   "source": [
    "filename = 'comparisonWithMPS'\n",
    "f = h5py.File(filename + '.h5', 'w')\n",
    "\n",
    "# store now all calculated values to a hdf5 dataset\n",
    "res_ds = f.create_dataset(uuid.uuid4().hex, data=res1, compression=\"gzip\", compression_opts=9)\n",
    "# TODO save observable data in separate dataframes\n",
    "res_ds.attrs['observables'] = ['e', 'n_a','a','a_dag','bond_dim','entropy']\n",
    "# store metadata which correspond to the dataset\n",
    "res_ds.attrs['N_spins'] = N_spins\n",
    "res_ds.attrs['N_phonons'] = N_phonons\n",
    "res_ds.attrs['max_bond'] = -1\n",
    "res_ds.attrs['Omega'] = OmegaGE\n",
    "res_ds.attrs['omegaTrap'] = omegaTrap\n",
    "res_ds.attrs['V_vdw'] = V_vdw\n",
    "res_ds.attrs['DeltaEE'] = DeltaEE\n",
    "res_ds.attrs['kappa'] = kappa\n",
    "res_ds.attrs['CUTOFF_TOLERANCE'] = -1\n",
    "res_ds.attrs['TROTTER_TOLERANCE'] = -1\n",
    "res_ds.attrs['times'] = tlist\n",
    "res_ds.attrs['Initial state'] = 'all atoms in g, centered in e, fock-state all 0'\n",
    "res_ds.attrs['alpha'] = -1\n",
    "res_ds.attrs['beta'] = -1\n",
    "res_ds.attrs['Date'] = datetime.now().timestamp()\n",
    "# close the file\n",
    "f.close()"
   ],
   "metadata": {
    "collapsed": false
   }
  },
  {
   "cell_type": "code",
   "execution_count": null,
   "outputs": [],
   "source": [],
   "metadata": {
    "collapsed": false
   }
  }
 ],
 "metadata": {
  "kernelspec": {
   "display_name": "Python 3",
   "language": "python",
   "name": "python3"
  },
  "language_info": {
   "codemirror_mode": {
    "name": "ipython",
    "version": 2
   },
   "file_extension": ".py",
   "mimetype": "text/x-python",
   "name": "python",
   "nbconvert_exporter": "python",
   "pygments_lexer": "ipython2",
   "version": "2.7.6"
  }
 },
 "nbformat": 4,
 "nbformat_minor": 0
}
