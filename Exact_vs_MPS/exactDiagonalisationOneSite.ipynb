{
 "cells": [
  {
   "cell_type": "code",
   "execution_count": null,
   "outputs": [],
   "source": [
    "import copy\n",
    "import numpy as np\n",
    "from matplotlib import pyplot as plt\n",
    "import matplotlib as mpl\n",
    "import h5py\n",
    "import uuid\n",
    "from datetime import datetime\n",
    "from qutip import *\n",
    "import sparse as sp\n",
    "\n",
    "mpl.rcParams['figure.dpi'] = 200"
   ],
   "metadata": {
    "collapsed": false,
    "is_executing": true
   }
  },
  {
   "cell_type": "markdown",
   "source": [
    "# First Seed\n",
    "This notebook demonstrates the initial seeding process where we start in all $|g>$ and a THz-photon pushes one atom in $|r>$. Afterwards this atom should generate somewhere else a $|e>$ excitation through dipole-dipole interaction (between er).\n",
    "\n",
    "This state is later on the starting point for the avalanche (other notebook)."
   ],
   "metadata": {
    "collapsed": false
   }
  },
  {
   "cell_type": "markdown",
   "source": [
    "## Define Constants"
   ],
   "metadata": {
    "collapsed": false
   }
  },
  {
   "cell_type": "code",
   "execution_count": null,
   "outputs": [],
   "source": [
    "N_spins = 8\n",
    "N_phonons = 3\n",
    "\n",
    "OmegaGE = 1\n",
    "kappa = 0\n",
    "omegaTrap = 8\n",
    "V_vdw = 500\n",
    "DeltaEE = -V_vdw  # weil resonant\n",
    "\n",
    "tlist = np.linspace(0, 10, 101)"
   ],
   "metadata": {
    "collapsed": false
   }
  },
  {
   "cell_type": "code",
   "execution_count": null,
   "outputs": [],
   "source": [
    "def multiSpinOperator(op, numOfParticles, dim=2):\n",
    "    retOp = []\n",
    "    for i in range(numOfParticles):\n",
    "        if i == 0:\n",
    "            retOp.append(op)\n",
    "        else:\n",
    "            retOp.append(qeye(dim))\n",
    "        for j in range(numOfParticles - 1):\n",
    "            if j + 1 == i:\n",
    "                retOp[i] = tensor(retOp[i], op)\n",
    "            else:\n",
    "                retOp[i] = tensor(retOp[i], qeye(dim))\n",
    "    return retOp"
   ],
   "metadata": {
    "collapsed": false
   }
  },
  {
   "cell_type": "code",
   "execution_count": null,
   "outputs": [],
   "source": [
    "g = basis(2, 0)\n",
    "e = basis(2, 1)\n",
    "a = destroy(N_phonons)\n",
    "g"
   ],
   "metadata": {
    "collapsed": false
   }
  },
  {
   "cell_type": "markdown",
   "source": [
    "## Create Hamiltonian"
   ],
   "metadata": {
    "collapsed": false
   }
  },
  {
   "cell_type": "code",
   "execution_count": null,
   "outputs": [],
   "source": [
    "#tempOpReshape = qeye([2, N_phonons])\n",
    "tempOpReshape = qeye(2 * N_phonons)\n",
    "tempOpReshape.data = tensor(e * g.dag() + g * e.dag(), qeye(N_phonons)).data\n",
    "H_OmegaGE = OmegaGE * sum(multiSpinOperator(tempOpReshape, N_spins, dim=tempOpReshape.dims[0]))\n",
    "tempOpReshape.data = tensor(e * e.dag(), qeye(N_phonons)).data\n",
    "H_DeltaEE = DeltaEE * sum(multiSpinOperator(tempOpReshape, N_spins, dim=tempOpReshape.dims[0]))\n",
    "tempOpReshape.data = tensor(qeye(2), num(N_phonons) + 0.5).data\n",
    "H_phon = omegaTrap * sum(multiSpinOperator(tempOpReshape, N_spins, dim=tempOpReshape.dims[0]))"
   ],
   "metadata": {
    "collapsed": false
   }
  },
  {
   "cell_type": "code",
   "execution_count": null,
   "outputs": [],
   "source": [
    "H_OmegaGE"
   ],
   "metadata": {
    "collapsed": false
   }
  },
  {
   "cell_type": "code",
   "execution_count": null,
   "outputs": [],
   "source": [
    "tempOpReshape.data = tensor(e * e.dag(), qeye(N_phonons)).data\n",
    "multiEe = multiSpinOperator(tempOpReshape, N_spins, dim=tempOpReshape.dims[0])\n",
    "\n",
    "tempOpReshape.data = tensor(e * e.dag(), a).data\n",
    "multiNa = multiSpinOperator(tempOpReshape, N_spins, dim=tempOpReshape.dims[0])\n",
    "\n",
    "tempOpReshape.data = tensor(e * e.dag(), a.dag()).data\n",
    "multiNaDag = multiSpinOperator(tempOpReshape, N_spins, dim=tempOpReshape.dims[0])"
   ],
   "metadata": {
    "collapsed": false
   }
  },
  {
   "cell_type": "code",
   "execution_count": null,
   "outputs": [],
   "source": [
    "H_vdw = 0 * H_DeltaEE\n",
    "for i in range(N_spins):\n",
    "    H_vdw += V_vdw * multiEe[i] * multiEe[(i + 1) % N_spins]\n",
    "    #H_vdw -= V_vdw/ np.sqrt(omegaTrap) * (multiNaDag[i] * multiEe[(i + 1) % N_spins]\n",
    "    #                                       + multiNa[i] * multiEe[(i + 1) % N_spins]\n",
    "    #                                       - multiNa[(i + 1) % N_spins] * multiEe[i]\n",
    "    #                                       - multiNaDag[(i + 1) % N_spins] * multiEe[i])\n",
    "    H_vdw -= kappa * (multiNaDag[i] * multiEe[(i + 1) % N_spins]\n",
    "                      + multiNa[i] * multiEe[(i + 1) % N_spins]\n",
    "                      - multiNa[(i + 1) % N_spins] * multiEe[i]\n",
    "                      - multiNaDag[(i + 1) % N_spins] * multiEe[i])"
   ],
   "metadata": {
    "collapsed": false
   }
  },
  {
   "cell_type": "code",
   "execution_count": null,
   "outputs": [],
   "source": [
    "H = H_OmegaGE + H_DeltaEE + H_vdw + H_phon\n",
    "H"
   ],
   "metadata": {
    "collapsed": false
   }
  },
  {
   "cell_type": "markdown",
   "source": [
    "## Initial state\n",
    "All atoms in $|g>$ or one in $|r>$"
   ],
   "metadata": {
    "collapsed": false
   }
  },
  {
   "cell_type": "code",
   "execution_count": null,
   "outputs": [],
   "source": [
    "g0 = basis(2 * N_phonons, 0)\n",
    "e0 = basis(2 * N_phonons, N_phonons)\n",
    "psiSpin = g0\n",
    "for i in range(N_spins - 1):\n",
    "    if i == N_spins // 2 - 1 or i == N_spins // 2 or i == N_spins // 2 - 2:\n",
    "        psiSpin = tensor(psiSpin, e0)\n",
    "    else:\n",
    "        psiSpin = tensor(psiSpin, g0)\n",
    "psi0 = psiSpin\n",
    "e0"
   ],
   "metadata": {
    "collapsed": false
   }
  },
  {
   "cell_type": "markdown",
   "source": [],
   "metadata": {
    "collapsed": false
   }
  },
  {
   "cell_type": "code",
   "execution_count": null,
   "outputs": [],
   "source": [
    "# thus must not fail if entropy should be measured\n",
    "entropy_mutual(psi0 * psi0.dag(), range(0, N_spins // 2), range(N_spins // 2, N_spins), sparse=False)"
   ],
   "metadata": {
    "collapsed": false
   }
  },
  {
   "cell_type": "markdown",
   "source": [
    "## expectation values"
   ],
   "metadata": {
    "collapsed": false
   }
  },
  {
   "cell_type": "code",
   "execution_count": null,
   "outputs": [],
   "source": [
    "eOps = []\n",
    "tempOpReshape.data = tensor(e * e.dag(), qeye(N_phonons)).data\n",
    "eOps += multiSpinOperator(tempOpReshape, N_spins, dim=tempOpReshape.dims[0])\n",
    "tempOpReshape.data = tensor(qeye(2), num(N_phonons)).data\n",
    "eOps += multiSpinOperator(tempOpReshape, N_spins, dim=tempOpReshape.dims[0])\n",
    "tempOpReshape.data = tensor(qeye(2), destroy(N_phonons)).data\n",
    "eOps += multiSpinOperator(tempOpReshape, N_spins, dim=tempOpReshape.dims[0])\n",
    "tempOpReshape.data = tensor(qeye(2), create(N_phonons)).data\n",
    "eOps += multiSpinOperator(tempOpReshape, N_spins, dim=tempOpReshape.dims[0])\n",
    "# this is only to create an array with the same amount of observables (6) as in the mps-code\n",
    "tempOpReshape.data = tensor(qzero(2), qzero(N_phonons)).data\n",
    "eOps += multiSpinOperator(tempOpReshape, N_spins, dim=tempOpReshape.dims[0])\n",
    "#eOps.append(lambda t, psi: entropy_mutual(psi * psi.dag(), range(0, 0), range(0, N_spins), sparse=False))\n",
    "eOps.append(lambda t, psi: -1)\n",
    "eOps.append(lambda t, psi: entropy_mutual(psi * psi.dag(), range(0, 1), range(1, N_spins), sparse=False))\n",
    "eOps.append(lambda t, psi: entropy_mutual(psi * psi.dag(), range(0, 2), range(2, N_spins), sparse=False))\n",
    "eOps.append(lambda t, psi: entropy_mutual(psi * psi.dag(), range(0, 3), range(3, N_spins), sparse=False))\n",
    "eOps.append(lambda t, psi: entropy_mutual(psi * psi.dag(), range(0, 4), range(4, N_spins), sparse=False))\n",
    "eOps.append(lambda t, psi: entropy_mutual(psi * psi.dag(), range(0, 5), range(5, N_spins), sparse=False))\n",
    "eOps.append(lambda t, psi: entropy_mutual(psi * psi.dag(), range(0, 6), range(6, N_spins), sparse=False))\n",
    "eOps.append(lambda t, psi: entropy_mutual(psi * psi.dag(), range(0, 7), range(7, N_spins), sparse=False))\n",
    "eOps.append(lambda t, psi: entropy_mutual(psi * psi.dag(), range(0, 8), range(8, N_spins), sparse=False))\n",
    "eOps.append(lambda t, psi: entropy_mutual(psi * psi.dag(), range(0, 9), range(9, N_spins), sparse=False))\n",
    "eOps.append(lambda t, psi: entropy_mutual(psi * psi.dag(), range(0, 10), range(10, N_spins), sparse=False))"
   ],
   "metadata": {
    "collapsed": false
   }
  },
  {
   "cell_type": "code",
   "execution_count": null,
   "outputs": [],
   "source": [
    "res0 = sesolve(H, psi0, tlist, e_ops=eOps, progress_bar=True)  #,c_ops=c_ops)"
   ],
   "metadata": {
    "collapsed": false
   }
  },
  {
   "cell_type": "code",
   "execution_count": null,
   "outputs": [],
   "source": [
    "res0.expect"
   ],
   "metadata": {
    "collapsed": false
   }
  },
  {
   "cell_type": "code",
   "execution_count": null,
   "outputs": [],
   "source": [
    "res1 = copy.deepcopy(res0)\n",
    "res1 = np.array(res1.expect).reshape(N_spins, 6, len(tlist), order='F')"
   ],
   "metadata": {
    "collapsed": false
   }
  },
  {
   "cell_type": "markdown",
   "source": [
    "## Plots"
   ],
   "metadata": {
    "collapsed": false
   }
  },
  {
   "cell_type": "code",
   "execution_count": null,
   "outputs": [],
   "source": [
    "plt.figure()\n",
    "for i, r in enumerate(res1[:, 0, :]):\n",
    "    plt.plot(tlist, r, label='<e' + str(i) + '>')\n",
    "plt.title(r'Time evolution, $\\Omega=$' + str(OmegaGE) + ', $\\Delta=$' + str(DeltaEE) + ', $V=$' + str(V_vdw))\n",
    "plt.xlabel('Time')\n",
    "plt.ylabel('Expectation values')\n",
    "plt.legend(loc='right')\n",
    "plt.show()"
   ],
   "metadata": {
    "collapsed": false
   }
  },
  {
   "cell_type": "code",
   "execution_count": null,
   "outputs": [],
   "source": [
    "n_range = range(-N_spins // 2 + 1, N_spins // 2 + 1)\n",
    "X, Y = np.meshgrid(tlist, n_range)\n",
    "plt.pcolormesh(X, Y, res1[:, 0, :].real, cmap=\"viridis\", vmin=0, vmax=1, shading='auto')\n",
    "plt.title(r'exact: spins V={},$\\Omega={},\\omega={}$'.format(V_vdw, OmegaGE, omegaTrap))\n",
    "plt.tight_layout()\n",
    "plt.show()"
   ],
   "metadata": {
    "collapsed": false
   }
  },
  {
   "cell_type": "code",
   "execution_count": null,
   "outputs": [],
   "source": [
    "plt.pcolormesh(np.array(res1[:, 1, :].real), cmap=\"viridis\", vmin=0, vmax=0.09)\n",
    "plt.title(r'exact: phonons V={},$\\Omega={},\\omega={}$'.format(V_vdw, OmegaGE, omegaTrap))\n",
    "plt.tight_layout()\n",
    "plt.show()"
   ],
   "metadata": {
    "collapsed": false
   }
  },
  {
   "cell_type": "code",
   "execution_count": null,
   "outputs": [],
   "source": [
    "plt.figure()\n",
    "#for i, r in enumerate(res1[:, 6, :]):\n",
    "plt.plot(tlist, res1[N_spins // 2, 5, :], label='<e' + str(N_spins // 2) + '>')\n",
    "plt.title(r'Time evolution, $\\Omega=$' + str(OmegaGE) + ', $\\Delta=$' + str(DeltaEE) + ', $V=$' + str(V_vdw))\n",
    "plt.xlabel('Time')\n",
    "plt.ylabel('Entanglement entropy')\n",
    "plt.legend(loc='right')\n",
    "plt.show()"
   ],
   "metadata": {
    "collapsed": false
   }
  },
  {
   "cell_type": "code",
   "execution_count": null,
   "outputs": [],
   "source": [
    "filename = 'comparisonWithMPS'\n",
    "f = h5py.File(filename + '.h5', 'w')\n",
    "\n",
    "# store now all calculated values to a hdf5 dataset\n",
    "res_ds = f.create_dataset(uuid.uuid4().hex, data=res1, compression=\"gzip\", compression_opts=9)\n",
    "# TODO save observable data in separate dataframes\n",
    "res_ds.attrs['observables'] = ['e', 'n_a', 'a', 'a_dag', 'bond_dim', 'entropy']\n",
    "# store metadata which correspond to the dataset\n",
    "res_ds.attrs['N_spins'] = N_spins\n",
    "res_ds.attrs['N_phonons'] = N_phonons\n",
    "res_ds.attrs['max_bond'] = -1\n",
    "res_ds.attrs['Omega'] = OmegaGE\n",
    "res_ds.attrs['omegaTrap'] = omegaTrap\n",
    "res_ds.attrs['V_vdw'] = V_vdw\n",
    "res_ds.attrs['DeltaEE'] = DeltaEE\n",
    "res_ds.attrs['kappa'] = kappa\n",
    "res_ds.attrs['CUTOFF_TOLERANCE'] = -1\n",
    "res_ds.attrs['TROTTER_TOLERANCE'] = -1\n",
    "res_ds.attrs['times'] = tlist\n",
    "res_ds.attrs['Initial state'] = 'all atoms in g, centered in e, fock-state all 0'\n",
    "res_ds.attrs['alpha'] = -1\n",
    "res_ds.attrs['beta'] = -1\n",
    "res_ds.attrs['Date'] = datetime.now().timestamp()\n",
    "# close the file\n",
    "f.close()"
   ],
   "metadata": {
    "collapsed": false
   }
  },
  {
   "cell_type": "code",
   "execution_count": null,
   "outputs": [],
   "source": [],
   "metadata": {
    "collapsed": false
   }
  }
 ],
 "metadata": {
  "kernelspec": {
   "display_name": "Python 3",
   "language": "python",
   "name": "python3"
  },
  "language_info": {
   "codemirror_mode": {
    "name": "ipython",
    "version": 2
   },
   "file_extension": ".py",
   "mimetype": "text/x-python",
   "name": "python",
   "nbconvert_exporter": "python",
   "pygments_lexer": "ipython2",
   "version": "2.7.6"
  }
 },
 "nbformat": 4,
 "nbformat_minor": 0
}
